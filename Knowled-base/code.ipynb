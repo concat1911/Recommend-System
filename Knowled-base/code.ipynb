{
 "cells": [
  {
   "cell_type": "code",
   "execution_count": 31,
   "metadata": {},
   "outputs": [],
   "source": [
    "import pandas as pd\n",
    "import numpy as np\n",
    "#Import the literal_eval function from ast\n",
    "from ast import literal_eval"
   ]
  },
  {
   "cell_type": "code",
   "execution_count": 22,
   "metadata": {},
   "outputs": [
    {
     "data": {
      "text/plain": [
       "20000"
      ]
     },
     "execution_count": 22,
     "metadata": {},
     "output_type": "execute_result"
    }
   ],
   "source": [
    "df = pd.read_json('../employers.json')\n",
    "df.shape[0]"
   ]
  },
  {
   "cell_type": "code",
   "execution_count": 23,
   "metadata": {},
   "outputs": [
    {
     "data": {
      "text/html": [
       "<div>\n",
       "<style scoped>\n",
       "    .dataframe tbody tr th:only-of-type {\n",
       "        vertical-align: middle;\n",
       "    }\n",
       "\n",
       "    .dataframe tbody tr th {\n",
       "        vertical-align: top;\n",
       "    }\n",
       "\n",
       "    .dataframe thead th {\n",
       "        text-align: right;\n",
       "    }\n",
       "</style>\n",
       "<table border=\"1\" class=\"dataframe\">\n",
       "  <thead>\n",
       "    <tr style=\"text-align: right;\">\n",
       "      <th></th>\n",
       "      <th>template</th>\n",
       "      <th>type</th>\n",
       "      <th>shift</th>\n",
       "      <th>city</th>\n",
       "      <th>zip</th>\n",
       "      <th>salary1</th>\n",
       "      <th>salary2</th>\n",
       "      <th>benefits</th>\n",
       "      <th>language</th>\n",
       "      <th>vertrag</th>\n",
       "      <th>futher</th>\n",
       "      <th>startDate</th>\n",
       "      <th>views</th>\n",
       "    </tr>\n",
       "  </thead>\n",
       "  <tbody>\n",
       "    <tr>\n",
       "      <td>0</td>\n",
       "      <td>Logopäde</td>\n",
       "      <td>freelancer</td>\n",
       "      <td>3</td>\n",
       "      <td>Ottendorf-Okrilla</td>\n",
       "      <td>1458</td>\n",
       "      <td>2300</td>\n",
       "      <td>4500</td>\n",
       "      <td>[Bezahlung nach Tarif(-vertrag), Leistungspräm...</td>\n",
       "      <td>5</td>\n",
       "      <td>1</td>\n",
       "      <td>[Ausbildungsbetrieb]</td>\n",
       "      <td>0</td>\n",
       "      <td>1420</td>\n",
       "    </tr>\n",
       "    <tr>\n",
       "      <td>1</td>\n",
       "      <td>Podologe</td>\n",
       "      <td>teilzeit</td>\n",
       "      <td>0</td>\n",
       "      <td>Dresden</td>\n",
       "      <td>01067-01465</td>\n",
       "      <td>2100</td>\n",
       "      <td>4600</td>\n",
       "      <td>[Betriebliches Gesundheitsmanagement, Dienstbe...</td>\n",
       "      <td>0</td>\n",
       "      <td>2</td>\n",
       "      <td>[]</td>\n",
       "      <td>0</td>\n",
       "      <td>1423</td>\n",
       "    </tr>\n",
       "    <tr>\n",
       "      <td>2</td>\n",
       "      <td>Ergotherapeut</td>\n",
       "      <td>teilzeit</td>\n",
       "      <td>2</td>\n",
       "      <td>Ottendorf-Okrilla</td>\n",
       "      <td>1458</td>\n",
       "      <td>2400</td>\n",
       "      <td>2600</td>\n",
       "      <td>[Dienstbekleidung, gute Betriebsklima, Übernah...</td>\n",
       "      <td>5</td>\n",
       "      <td>1</td>\n",
       "      <td>[]</td>\n",
       "      <td>1</td>\n",
       "      <td>783</td>\n",
       "    </tr>\n",
       "    <tr>\n",
       "      <td>3</td>\n",
       "      <td>Krankenpflegehelfer</td>\n",
       "      <td>vollzeit</td>\n",
       "      <td>0</td>\n",
       "      <td>Radeburg</td>\n",
       "      <td>1471</td>\n",
       "      <td>2100</td>\n",
       "      <td>3300</td>\n",
       "      <td>[gute Betriebsklima, exklusive Rabatte in namh...</td>\n",
       "      <td>0</td>\n",
       "      <td>0</td>\n",
       "      <td>[]</td>\n",
       "      <td>0</td>\n",
       "      <td>502</td>\n",
       "    </tr>\n",
       "    <tr>\n",
       "      <td>4</td>\n",
       "      <td>Logopäde</td>\n",
       "      <td>teilzeit</td>\n",
       "      <td>3</td>\n",
       "      <td>Moritzburg</td>\n",
       "      <td>1468</td>\n",
       "      <td>2100</td>\n",
       "      <td>2700</td>\n",
       "      <td>[gute Betriebsklima, Begrüßungsprämie, Vorzugs...</td>\n",
       "      <td>3</td>\n",
       "      <td>1</td>\n",
       "      <td>[]</td>\n",
       "      <td>1</td>\n",
       "      <td>586</td>\n",
       "    </tr>\n",
       "  </tbody>\n",
       "</table>\n",
       "</div>"
      ],
      "text/plain": [
       "              template        type  shift               city          zip  \\\n",
       "0             Logopäde  freelancer      3  Ottendorf-Okrilla         1458   \n",
       "1             Podologe    teilzeit      0            Dresden  01067-01465   \n",
       "2        Ergotherapeut    teilzeit      2  Ottendorf-Okrilla         1458   \n",
       "3  Krankenpflegehelfer    vollzeit      0           Radeburg         1471   \n",
       "4             Logopäde    teilzeit      3         Moritzburg         1468   \n",
       "\n",
       "   salary1  salary2                                           benefits  \\\n",
       "0     2300     4500  [Bezahlung nach Tarif(-vertrag), Leistungspräm...   \n",
       "1     2100     4600  [Betriebliches Gesundheitsmanagement, Dienstbe...   \n",
       "2     2400     2600  [Dienstbekleidung, gute Betriebsklima, Übernah...   \n",
       "3     2100     3300  [gute Betriebsklima, exklusive Rabatte in namh...   \n",
       "4     2100     2700  [gute Betriebsklima, Begrüßungsprämie, Vorzugs...   \n",
       "\n",
       "   language  vertrag                futher  startDate  views  \n",
       "0         5        1  [Ausbildungsbetrieb]          0   1420  \n",
       "1         0        2                    []          0   1423  \n",
       "2         5        1                    []          1    783  \n",
       "3         0        0                    []          0    502  \n",
       "4         3        1                    []          1    586  "
      ]
     },
     "execution_count": 23,
     "metadata": {},
     "output_type": "execute_result"
    }
   ],
   "source": [
    "df = df.drop('_id', axis=1)\n",
    "df.head()"
   ]
  },
  {
   "cell_type": "code",
   "execution_count": 24,
   "metadata": {},
   "outputs": [
    {
     "data": {
      "text/plain": [
       "'Ottendorf-Okrilla'"
      ]
     },
     "execution_count": 24,
     "metadata": {},
     "output_type": "execute_result"
    }
   ],
   "source": [
    "#Print test\n",
    "df.iloc[0]['city']"
   ]
  },
  {
   "cell_type": "code",
   "execution_count": 25,
   "metadata": {},
   "outputs": [
    {
     "name": "stdout",
     "output_type": "stream",
     "text": [
      "<class 'str'>\n",
      "<class 'list'>\n"
     ]
    }
   ],
   "source": [
    "#Define a stringified list and output its type\n",
    "a = \"[1,2,3]\"\n",
    "print(type(a))\n",
    "#Apply literal_eval and output type\n",
    "b = literal_eval(a)\n",
    "print(type(b))"
   ]
  },
  {
   "cell_type": "code",
   "execution_count": 26,
   "metadata": {},
   "outputs": [],
   "source": [
    "#Convert all NaN into stringified empty lists\n",
    "# df['benefits'] = df['benefits'].fillna('[]')\n",
    "\n",
    "#Apply literal_eval to convert to the list object\n",
    "# df['benefits'] = df['benefits'].apply(literal_eval)\n",
    "\n",
    "#Convert list of dictionaries to a list of strings\n",
    "# df['benefits'] = df['benefits'].apply(lambda x: [i['name'] for i in x] if isinstance(x, list) else [])\n",
    "# df.head(5)"
   ]
  },
  {
   "cell_type": "code",
   "execution_count": 27,
   "metadata": {},
   "outputs": [],
   "source": [
    "#Create a new feature by exploding genres\n",
    "# s = df.apply(lambda x: pd.Series(x['benefits']),axis=1).stack().reset_index(level=1, drop=True)\n",
    "\n",
    "#Name the new feature as 'genre'\n",
    "# s.name = 'benefit'\n",
    "\n",
    "#Create a new dataframe gen_df which by dropping the old 'benefits' feature and adding the new 'benefit'.\n",
    "# ben_df = df.drop('benefits', axis=1).join(s)\n",
    "\n",
    "#Print the head of the new gen_df\n",
    "# ben_df.head()\n",
    "ben_df = df.copy()"
   ]
  },
  {
   "cell_type": "code",
   "execution_count": 28,
   "metadata": {},
   "outputs": [],
   "source": [
    "def build_chart(ben_df, percentile=0.8):\n",
    "    #Ask for template\n",
    "    print(\"Input preferred template\")\n",
    "    template = input()\n",
    "\n",
    "    #Ask for working type\n",
    "    print(\"Working type:\")\n",
    "    wtype = input()\n",
    "\n",
    "    #Ask for working shift\n",
    "    print(\"Working shift\")\n",
    "    wshift = int(input())\n",
    "\n",
    "    #Ask for city\n",
    "    print(\"Where you want to work\")\n",
    "    city = input()\n",
    "\n",
    "    #Ask for salary range\n",
    "    print(\"Salary lowest\")\n",
    "    slower = int(input())\n",
    "    print(\"Salary highest\")\n",
    "    supper = int(input())\n",
    "    \n",
    "    #backup\n",
    "    jobs = ben_df.copy()\n",
    "\n",
    "    #Filter based on the condition\n",
    "    jobs = jobs[\n",
    "          (jobs['template'] == template) &\n",
    "          (jobs['type'] == wtype) &\n",
    "          (jobs['shift'] <= shift) &\n",
    "          (jobs['city'] == city) &\n",
    "          (jobs['salary1'] >= slower) & \n",
    "          (jobs['salary2'] <= supper)\n",
    "    ]\n",
    "\n",
    "    #Only consider movies that have higher than m votes. Save this in a new dataframe q_jobs\n",
    "    q_jobs = jobs.copy().loc[jobs['views'] >= 10]\n",
    "\n",
    "    #     #Calculate score using the IMDB formula\n",
    "    #     q_jobs['score'] = q_jobs.apply(lambda x: (x['vote_count']/(x['vote_count']+m) * x['vote_average'])\n",
    "    #     + (m/(m+x['vote_count']) * C)\n",
    "    #     ,axis=1)\n",
    "\n",
    "    #Sort jobs in descending order\n",
    "    q_jobs = q_jobs.sort_values('views', ascending=False)\n",
    "\n",
    "    return q_jobs"
   ]
  },
  {
   "cell_type": "code",
   "execution_count": 37,
   "metadata": {},
   "outputs": [
    {
     "name": "stdout",
     "output_type": "stream",
     "text": [
      "Input preferred template\n",
      "Krankenpfleger\n",
      "Working type:\n",
      "teilzeit\n",
      "Working shift\n",
      "2\n",
      "Where you want to work\n",
      "Dresden\n",
      "Salary lowest\n",
      "2000\n",
      "Salary highest\n",
      "3000\n"
     ]
    },
    {
     "data": {
      "text/html": [
       "<div>\n",
       "<style scoped>\n",
       "    .dataframe tbody tr th:only-of-type {\n",
       "        vertical-align: middle;\n",
       "    }\n",
       "\n",
       "    .dataframe tbody tr th {\n",
       "        vertical-align: top;\n",
       "    }\n",
       "\n",
       "    .dataframe thead th {\n",
       "        text-align: right;\n",
       "    }\n",
       "</style>\n",
       "<table border=\"1\" class=\"dataframe\">\n",
       "  <thead>\n",
       "    <tr style=\"text-align: right;\">\n",
       "      <th></th>\n",
       "      <th>template</th>\n",
       "      <th>type</th>\n",
       "      <th>shift</th>\n",
       "      <th>city</th>\n",
       "      <th>zip</th>\n",
       "      <th>salary1</th>\n",
       "      <th>salary2</th>\n",
       "      <th>benefits</th>\n",
       "      <th>language</th>\n",
       "      <th>vertrag</th>\n",
       "      <th>futher</th>\n",
       "      <th>startDate</th>\n",
       "      <th>views</th>\n",
       "    </tr>\n",
       "  </thead>\n",
       "  <tbody>\n",
       "    <tr>\n",
       "      <td>17425</td>\n",
       "      <td>Krankenpfleger</td>\n",
       "      <td>teilzeit</td>\n",
       "      <td>2</td>\n",
       "      <td>Dresden</td>\n",
       "      <td>01067-01465</td>\n",
       "      <td>2400</td>\n",
       "      <td>2600</td>\n",
       "      <td>[Kostenübernahme Kinderbetreuung, Übernahme Fi...</td>\n",
       "      <td>0</td>\n",
       "      <td>1</td>\n",
       "      <td>[]</td>\n",
       "      <td>1</td>\n",
       "      <td>508</td>\n",
       "    </tr>\n",
       "    <tr>\n",
       "      <td>16410</td>\n",
       "      <td>Krankenpfleger</td>\n",
       "      <td>teilzeit</td>\n",
       "      <td>2</td>\n",
       "      <td>Dresden</td>\n",
       "      <td>01067-01465</td>\n",
       "      <td>2400</td>\n",
       "      <td>2800</td>\n",
       "      <td>[Mitarbeiterfrühstück, Kantine, Begrüßungsprämie]</td>\n",
       "      <td>1</td>\n",
       "      <td>2</td>\n",
       "      <td>[geförderte Weiterbildungsmöglichkeiten]</td>\n",
       "      <td>0</td>\n",
       "      <td>161</td>\n",
       "    </tr>\n",
       "  </tbody>\n",
       "</table>\n",
       "</div>"
      ],
      "text/plain": [
       "             template      type  shift     city          zip  salary1  \\\n",
       "17425  Krankenpfleger  teilzeit      2  Dresden  01067-01465     2400   \n",
       "16410  Krankenpfleger  teilzeit      2  Dresden  01067-01465     2400   \n",
       "\n",
       "       salary2                                           benefits  language  \\\n",
       "17425     2600  [Kostenübernahme Kinderbetreuung, Übernahme Fi...         0   \n",
       "16410     2800  [Mitarbeiterfrühstück, Kantine, Begrüßungsprämie]         1   \n",
       "\n",
       "       vertrag                                    futher  startDate  views  \n",
       "17425        1                                        []          1    508  \n",
       "16410        2  [geförderte Weiterbildungsmöglichkeiten]          0    161  "
      ]
     },
     "execution_count": 37,
     "metadata": {},
     "output_type": "execute_result"
    }
   ],
   "source": [
    "#Generate\n",
    "result = build_chart(ben_df)\n",
    "result"
   ]
  },
  {
   "cell_type": "code",
   "execution_count": 36,
   "metadata": {},
   "outputs": [
    {
     "data": {
      "text/plain": [
       "2"
      ]
     },
     "execution_count": 36,
     "metadata": {},
     "output_type": "execute_result"
    }
   ],
   "source": [
    "result.shape[0]"
   ]
  },
  {
   "cell_type": "code",
   "execution_count": null,
   "metadata": {},
   "outputs": [],
   "source": []
  }
 ],
 "metadata": {
  "kernelspec": {
   "display_name": "Python 3",
   "language": "python",
   "name": "python3"
  },
  "language_info": {
   "codemirror_mode": {
    "name": "ipython",
    "version": 3
   },
   "file_extension": ".py",
   "mimetype": "text/x-python",
   "name": "python",
   "nbconvert_exporter": "python",
   "pygments_lexer": "ipython3",
   "version": "3.7.3"
  }
 },
 "nbformat": 4,
 "nbformat_minor": 2
}
