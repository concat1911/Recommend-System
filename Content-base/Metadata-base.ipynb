{
 "cells": [
  {
   "cell_type": "code",
   "execution_count": 9,
   "metadata": {},
   "outputs": [],
   "source": [
    "import pandas as pd\n",
    "import numpy as np The truth value of an array with more than one element is ambiguous. Use a.any() or a.all()"
   ]
  },
  {
   "cell_type": "code",
   "execution_count": 10,
   "metadata": {
    "scrolled": true
   },
   "outputs": [],
   "source": [
    "df = pd.read_csv('../output_clean.csv')"
   ]
  },
  {
   "cell_type": "code",
   "execution_count": 11,
   "metadata": {},
   "outputs": [
    {
     "data": {
      "text/plain": [
       "(11001, 9)"
      ]
     },
     "execution_count": 11,
     "metadata": {},
     "output_type": "execute_result"
    }
   ],
   "source": [
    "df = df.drop('postdate', axis=1)\n",
    "df = df.drop('uniq_id', axis=1)\n",
    "df = df.drop('jobid', axis=1)\n",
    "df = df.drop('site_name', axis=1)\n",
    "df = df.drop('payrate', axis=1)\n",
    "df.drop(df.index[11000:22000-1], inplace=True)\n",
    "df.shape"
   ]
  },
  {
   "cell_type": "code",
   "execution_count": 12,
   "metadata": {
    "scrolled": true
   },
   "outputs": [
    {
     "data": {
      "text/html": [
       "<div>\n",
       "<style scoped>\n",
       "    .dataframe tbody tr th:only-of-type {\n",
       "        vertical-align: middle;\n",
       "    }\n",
       "\n",
       "    .dataframe tbody tr th {\n",
       "        vertical-align: top;\n",
       "    }\n",
       "\n",
       "    .dataframe thead th {\n",
       "        text-align: right;\n",
       "    }\n",
       "</style>\n",
       "<table border=\"1\" class=\"dataframe\">\n",
       "  <thead>\n",
       "    <tr style=\"text-align: right;\">\n",
       "      <th></th>\n",
       "      <th>company</th>\n",
       "      <th>education</th>\n",
       "      <th>experience</th>\n",
       "      <th>industry</th>\n",
       "      <th>jobdescription</th>\n",
       "      <th>joblocation_address</th>\n",
       "      <th>jobtitle</th>\n",
       "      <th>numberofpositions</th>\n",
       "      <th>skills</th>\n",
       "    </tr>\n",
       "  </thead>\n",
       "  <tbody>\n",
       "    <tr>\n",
       "      <th>0</th>\n",
       "      <td>MM Media Pvt Ltd</td>\n",
       "      <td>UG: B.Tech/B.E. - Any Specialization PG:Any Po...</td>\n",
       "      <td>0;1</td>\n",
       "      <td>Media; Entertainment; Internet</td>\n",
       "      <td>Job Description   Send me Jobs like this Quali...</td>\n",
       "      <td>Chennai</td>\n",
       "      <td>Walkin Data Entry Operator (night Shift)</td>\n",
       "      <td>NaN</td>\n",
       "      <td>ITES</td>\n",
       "    </tr>\n",
       "    <tr>\n",
       "      <th>1</th>\n",
       "      <td>find live infotech</td>\n",
       "      <td>UG: B.Tech/B.E. - Any Specialization PG:MBA/PG...</td>\n",
       "      <td>0;0</td>\n",
       "      <td>Advertising; PR; MR; Event Management</td>\n",
       "      <td>Job Description   Send me Jobs like this Quali...</td>\n",
       "      <td>Chennai</td>\n",
       "      <td>Work Based Onhome Based Part Time.</td>\n",
       "      <td>60.0</td>\n",
       "      <td>Marketing</td>\n",
       "    </tr>\n",
       "    <tr>\n",
       "      <th>2</th>\n",
       "      <td>Softtech Career Infosystem Pvt. Ltd</td>\n",
       "      <td>UG: Any Graduate - Any Specialization PG:Any P...</td>\n",
       "      <td>4;8</td>\n",
       "      <td>IT-Software; Software Services</td>\n",
       "      <td>Job Description   Send me Jobs like this - as ...</td>\n",
       "      <td>Bengaluru</td>\n",
       "      <td>Pl/sql Developer - SQL</td>\n",
       "      <td>NaN</td>\n",
       "      <td>IT Software;Application Programming</td>\n",
       "    </tr>\n",
       "    <tr>\n",
       "      <th>3</th>\n",
       "      <td>Onboard HRServices LLP</td>\n",
       "      <td>UG: Any Graduate - Any Specialization PG:CA Do...</td>\n",
       "      <td>11;15</td>\n",
       "      <td>Banking; Financial Services; Broking</td>\n",
       "      <td>Job Description   Send me Jobs like this - Inv...</td>\n",
       "      <td>Mumbai;Bengaluru;Kolkata;Chennai;Coimbatore;Ta...</td>\n",
       "      <td>Manager/ad/partner - Indirect Tax - CA</td>\n",
       "      <td>NaN</td>\n",
       "      <td>Accounts</td>\n",
       "    </tr>\n",
       "    <tr>\n",
       "      <th>4</th>\n",
       "      <td>Spire Technologies and Solutions Pvt. Ltd.</td>\n",
       "      <td>UG: B.Tech/B.E. - Any Specialization PG:Any Po...</td>\n",
       "      <td>6;8</td>\n",
       "      <td>IT-Software; Software Services</td>\n",
       "      <td>Job Description   Send me Jobs like this Pleas...</td>\n",
       "      <td>Bengaluru</td>\n",
       "      <td>JAVA Technical Lead (6-8 yrs) -</td>\n",
       "      <td>4.0</td>\n",
       "      <td>IT Software;Application Programming</td>\n",
       "    </tr>\n",
       "    <tr>\n",
       "      <th>5</th>\n",
       "      <td>PFS Web Global Services Pvt Ltd</td>\n",
       "      <td>UG: B.Tech/B.E. - Any Specialization PG:MCA - ...</td>\n",
       "      <td>2;5</td>\n",
       "      <td>IT-Software; Software Services</td>\n",
       "      <td>Job Description   Send me Jobs like this We ar...</td>\n",
       "      <td>Bengaluru</td>\n",
       "      <td>WALK IN - As400 Developer - Pfsweb Global Serv...</td>\n",
       "      <td>NaN</td>\n",
       "      <td>IT Software;Application Programming</td>\n",
       "    </tr>\n",
       "    <tr>\n",
       "      <th>6</th>\n",
       "      <td>Kinesis Management Consultant Pvt. Ltd</td>\n",
       "      <td>NaN</td>\n",
       "      <td>1;3</td>\n",
       "      <td>IT-Software; Software Services</td>\n",
       "      <td>Job Description   Send me Jobs like this exper...</td>\n",
       "      <td>Delhi NCR;Mumbai;Bengaluru;Kochi;Greater Noida...</td>\n",
       "      <td>PHP Developer</td>\n",
       "      <td>2.0</td>\n",
       "      <td>IT Software;Application Programming</td>\n",
       "    </tr>\n",
       "    <tr>\n",
       "      <th>7</th>\n",
       "      <td>Agile HR consultancy Pvt. Ltd. hiring for Ross...</td>\n",
       "      <td>UG: Diploma - Any Specialization, Electrical, ...</td>\n",
       "      <td>2;7</td>\n",
       "      <td>Aviation; Aerospace Firms</td>\n",
       "      <td>Job Description   Send me Jobs like this Job D...</td>\n",
       "      <td>Bengaluru</td>\n",
       "      <td>Member Technical Staff-wire Harness/cable Harn...</td>\n",
       "      <td>20.0</td>\n",
       "      <td>Production</td>\n",
       "    </tr>\n",
       "    <tr>\n",
       "      <th>8</th>\n",
       "      <td>HANSUM INDIA ELECTRONICS PVT.LTD.</td>\n",
       "      <td>UG: Diploma - Any Specialization, Electronics/...</td>\n",
       "      <td>1;3</td>\n",
       "      <td>Industrial Products; Heavy Machinery</td>\n",
       "      <td>Job Description   Send me Jobs like this Indep...</td>\n",
       "      <td>Bengaluru</td>\n",
       "      <td>Team Leader</td>\n",
       "      <td>2.0</td>\n",
       "      <td>Production</td>\n",
       "    </tr>\n",
       "    <tr>\n",
       "      <th>9</th>\n",
       "      <td>Accenture</td>\n",
       "      <td>UG: Any Graduate - Any Specialization PG:Any P...</td>\n",
       "      <td>1;5</td>\n",
       "      <td>IT-Software; Software Services</td>\n",
       "      <td>Job Description   Send me Jobs like this Overa...</td>\n",
       "      <td>Bengaluru</td>\n",
       "      <td>German Translator</td>\n",
       "      <td>NaN</td>\n",
       "      <td>ITES</td>\n",
       "    </tr>\n",
       "  </tbody>\n",
       "</table>\n",
       "</div>"
      ],
      "text/plain": [
       "                                             company  \\\n",
       "0                                   MM Media Pvt Ltd   \n",
       "1                                 find live infotech   \n",
       "2                Softtech Career Infosystem Pvt. Ltd   \n",
       "3                             Onboard HRServices LLP   \n",
       "4         Spire Technologies and Solutions Pvt. Ltd.   \n",
       "5                    PFS Web Global Services Pvt Ltd   \n",
       "6             Kinesis Management Consultant Pvt. Ltd   \n",
       "7  Agile HR consultancy Pvt. Ltd. hiring for Ross...   \n",
       "8                  HANSUM INDIA ELECTRONICS PVT.LTD.   \n",
       "9                                          Accenture   \n",
       "\n",
       "                                           education experience  \\\n",
       "0  UG: B.Tech/B.E. - Any Specialization PG:Any Po...       0;1    \n",
       "1  UG: B.Tech/B.E. - Any Specialization PG:MBA/PG...       0;0    \n",
       "2  UG: Any Graduate - Any Specialization PG:Any P...       4;8    \n",
       "3  UG: Any Graduate - Any Specialization PG:CA Do...     11;15    \n",
       "4  UG: B.Tech/B.E. - Any Specialization PG:Any Po...       6;8    \n",
       "5  UG: B.Tech/B.E. - Any Specialization PG:MCA - ...       2;5    \n",
       "6                                                NaN       1;3    \n",
       "7  UG: Diploma - Any Specialization, Electrical, ...       2;7    \n",
       "8  UG: Diploma - Any Specialization, Electronics/...       1;3    \n",
       "9  UG: Any Graduate - Any Specialization PG:Any P...       1;5    \n",
       "\n",
       "                                industry  \\\n",
       "0         Media; Entertainment; Internet   \n",
       "1  Advertising; PR; MR; Event Management   \n",
       "2         IT-Software; Software Services   \n",
       "3   Banking; Financial Services; Broking   \n",
       "4         IT-Software; Software Services   \n",
       "5         IT-Software; Software Services   \n",
       "6         IT-Software; Software Services   \n",
       "7              Aviation; Aerospace Firms   \n",
       "8   Industrial Products; Heavy Machinery   \n",
       "9         IT-Software; Software Services   \n",
       "\n",
       "                                      jobdescription  \\\n",
       "0  Job Description   Send me Jobs like this Quali...   \n",
       "1  Job Description   Send me Jobs like this Quali...   \n",
       "2  Job Description   Send me Jobs like this - as ...   \n",
       "3  Job Description   Send me Jobs like this - Inv...   \n",
       "4  Job Description   Send me Jobs like this Pleas...   \n",
       "5  Job Description   Send me Jobs like this We ar...   \n",
       "6  Job Description   Send me Jobs like this exper...   \n",
       "7  Job Description   Send me Jobs like this Job D...   \n",
       "8  Job Description   Send me Jobs like this Indep...   \n",
       "9  Job Description   Send me Jobs like this Overa...   \n",
       "\n",
       "                                 joblocation_address  \\\n",
       "0                                            Chennai   \n",
       "1                                            Chennai   \n",
       "2                                          Bengaluru   \n",
       "3  Mumbai;Bengaluru;Kolkata;Chennai;Coimbatore;Ta...   \n",
       "4                                          Bengaluru   \n",
       "5                                          Bengaluru   \n",
       "6  Delhi NCR;Mumbai;Bengaluru;Kochi;Greater Noida...   \n",
       "7                                          Bengaluru   \n",
       "8                                          Bengaluru   \n",
       "9                                          Bengaluru   \n",
       "\n",
       "                                            jobtitle  numberofpositions  \\\n",
       "0           Walkin Data Entry Operator (night Shift)                NaN   \n",
       "1                 Work Based Onhome Based Part Time.               60.0   \n",
       "2                             Pl/sql Developer - SQL                NaN   \n",
       "3             Manager/ad/partner - Indirect Tax - CA                NaN   \n",
       "4                    JAVA Technical Lead (6-8 yrs) -                4.0   \n",
       "5  WALK IN - As400 Developer - Pfsweb Global Serv...                NaN   \n",
       "6                                      PHP Developer                2.0   \n",
       "7  Member Technical Staff-wire Harness/cable Harn...               20.0   \n",
       "8                                        Team Leader                2.0   \n",
       "9                                  German Translator                NaN   \n",
       "\n",
       "                                skills  \n",
       "0                                 ITES  \n",
       "1                            Marketing  \n",
       "2  IT Software;Application Programming  \n",
       "3                             Accounts  \n",
       "4  IT Software;Application Programming  \n",
       "5  IT Software;Application Programming  \n",
       "6  IT Software;Application Programming  \n",
       "7                           Production  \n",
       "8                           Production  \n",
       "9                                 ITES  "
      ]
     },
     "execution_count": 12,
     "metadata": {},
     "output_type": "execute_result"
    }
   ],
   "source": [
    "df.head(10)"
   ]
  },
  {
   "cell_type": "markdown",
   "metadata": {},
   "source": [
    "# Clean data"
   ]
  },
  {
   "cell_type": "code",
   "execution_count": 13,
   "metadata": {},
   "outputs": [],
   "source": [
    "def clean(x):\n",
    "    return x.split(';')"
   ]
  },
  {
   "cell_type": "code",
   "execution_count": 14,
   "metadata": {},
   "outputs": [],
   "source": [
    "df['experience'] = df['experience'].str.split(';')\n",
    "df['industry'] = df['industry'].str.split(';')\n",
    "df['skills'] = df['skills'].str.split(';')\n",
    "df['joblocation_address'] = df['joblocation_address'].str.split(';')"
   ]
  },
  {
   "cell_type": "code",
   "execution_count": 15,
   "metadata": {},
   "outputs": [
    {
     "data": {
      "text/html": [
       "<div>\n",
       "<style scoped>\n",
       "    .dataframe tbody tr th:only-of-type {\n",
       "        vertical-align: middle;\n",
       "    }\n",
       "\n",
       "    .dataframe tbody tr th {\n",
       "        vertical-align: top;\n",
       "    }\n",
       "\n",
       "    .dataframe thead th {\n",
       "        text-align: right;\n",
       "    }\n",
       "</style>\n",
       "<table border=\"1\" class=\"dataframe\">\n",
       "  <thead>\n",
       "    <tr style=\"text-align: right;\">\n",
       "      <th></th>\n",
       "      <th>company</th>\n",
       "      <th>education</th>\n",
       "      <th>experience</th>\n",
       "      <th>industry</th>\n",
       "      <th>jobdescription</th>\n",
       "      <th>joblocation_address</th>\n",
       "      <th>jobtitle</th>\n",
       "      <th>numberofpositions</th>\n",
       "      <th>skills</th>\n",
       "    </tr>\n",
       "  </thead>\n",
       "  <tbody>\n",
       "    <tr>\n",
       "      <th>0</th>\n",
       "      <td>MM Media Pvt Ltd</td>\n",
       "      <td>UG: B.Tech/B.E. - Any Specialization PG:Any Po...</td>\n",
       "      <td>[0, 1 ]</td>\n",
       "      <td>[Media,  Entertainment,  Internet]</td>\n",
       "      <td>Job Description   Send me Jobs like this Quali...</td>\n",
       "      <td>[Chennai]</td>\n",
       "      <td>Walkin Data Entry Operator (night Shift)</td>\n",
       "      <td>NaN</td>\n",
       "      <td>[ITES]</td>\n",
       "    </tr>\n",
       "    <tr>\n",
       "      <th>1</th>\n",
       "      <td>find live infotech</td>\n",
       "      <td>UG: B.Tech/B.E. - Any Specialization PG:MBA/PG...</td>\n",
       "      <td>[0, 0 ]</td>\n",
       "      <td>[Advertising,  PR,  MR,  Event Management]</td>\n",
       "      <td>Job Description   Send me Jobs like this Quali...</td>\n",
       "      <td>[Chennai]</td>\n",
       "      <td>Work Based Onhome Based Part Time.</td>\n",
       "      <td>60.0</td>\n",
       "      <td>[Marketing]</td>\n",
       "    </tr>\n",
       "    <tr>\n",
       "      <th>2</th>\n",
       "      <td>Softtech Career Infosystem Pvt. Ltd</td>\n",
       "      <td>UG: Any Graduate - Any Specialization PG:Any P...</td>\n",
       "      <td>[4, 8 ]</td>\n",
       "      <td>[IT-Software,  Software Services]</td>\n",
       "      <td>Job Description   Send me Jobs like this - as ...</td>\n",
       "      <td>[Bengaluru]</td>\n",
       "      <td>Pl/sql Developer - SQL</td>\n",
       "      <td>NaN</td>\n",
       "      <td>[IT Software, Application Programming]</td>\n",
       "    </tr>\n",
       "    <tr>\n",
       "      <th>3</th>\n",
       "      <td>Onboard HRServices LLP</td>\n",
       "      <td>UG: Any Graduate - Any Specialization PG:CA Do...</td>\n",
       "      <td>[11, 15 ]</td>\n",
       "      <td>[Banking,  Financial Services,  Broking]</td>\n",
       "      <td>Job Description   Send me Jobs like this - Inv...</td>\n",
       "      <td>[Mumbai, Bengaluru, Kolkata, Chennai, Coimbato...</td>\n",
       "      <td>Manager/ad/partner - Indirect Tax - CA</td>\n",
       "      <td>NaN</td>\n",
       "      <td>[Accounts]</td>\n",
       "    </tr>\n",
       "    <tr>\n",
       "      <th>4</th>\n",
       "      <td>Spire Technologies and Solutions Pvt. Ltd.</td>\n",
       "      <td>UG: B.Tech/B.E. - Any Specialization PG:Any Po...</td>\n",
       "      <td>[6, 8 ]</td>\n",
       "      <td>[IT-Software,  Software Services]</td>\n",
       "      <td>Job Description   Send me Jobs like this Pleas...</td>\n",
       "      <td>[Bengaluru]</td>\n",
       "      <td>JAVA Technical Lead (6-8 yrs) -</td>\n",
       "      <td>4.0</td>\n",
       "      <td>[IT Software, Application Programming]</td>\n",
       "    </tr>\n",
       "  </tbody>\n",
       "</table>\n",
       "</div>"
      ],
      "text/plain": [
       "                                      company  \\\n",
       "0                            MM Media Pvt Ltd   \n",
       "1                          find live infotech   \n",
       "2         Softtech Career Infosystem Pvt. Ltd   \n",
       "3                      Onboard HRServices LLP   \n",
       "4  Spire Technologies and Solutions Pvt. Ltd.   \n",
       "\n",
       "                                           education experience  \\\n",
       "0  UG: B.Tech/B.E. - Any Specialization PG:Any Po...    [0, 1 ]   \n",
       "1  UG: B.Tech/B.E. - Any Specialization PG:MBA/PG...    [0, 0 ]   \n",
       "2  UG: Any Graduate - Any Specialization PG:Any P...    [4, 8 ]   \n",
       "3  UG: Any Graduate - Any Specialization PG:CA Do...  [11, 15 ]   \n",
       "4  UG: B.Tech/B.E. - Any Specialization PG:Any Po...    [6, 8 ]   \n",
       "\n",
       "                                     industry  \\\n",
       "0          [Media,  Entertainment,  Internet]   \n",
       "1  [Advertising,  PR,  MR,  Event Management]   \n",
       "2           [IT-Software,  Software Services]   \n",
       "3    [Banking,  Financial Services,  Broking]   \n",
       "4           [IT-Software,  Software Services]   \n",
       "\n",
       "                                      jobdescription  \\\n",
       "0  Job Description   Send me Jobs like this Quali...   \n",
       "1  Job Description   Send me Jobs like this Quali...   \n",
       "2  Job Description   Send me Jobs like this - as ...   \n",
       "3  Job Description   Send me Jobs like this - Inv...   \n",
       "4  Job Description   Send me Jobs like this Pleas...   \n",
       "\n",
       "                                 joblocation_address  \\\n",
       "0                                          [Chennai]   \n",
       "1                                          [Chennai]   \n",
       "2                                        [Bengaluru]   \n",
       "3  [Mumbai, Bengaluru, Kolkata, Chennai, Coimbato...   \n",
       "4                                        [Bengaluru]   \n",
       "\n",
       "                                   jobtitle  numberofpositions  \\\n",
       "0  Walkin Data Entry Operator (night Shift)                NaN   \n",
       "1        Work Based Onhome Based Part Time.               60.0   \n",
       "2                    Pl/sql Developer - SQL                NaN   \n",
       "3    Manager/ad/partner - Indirect Tax - CA                NaN   \n",
       "4           JAVA Technical Lead (6-8 yrs) -                4.0   \n",
       "\n",
       "                                   skills  \n",
       "0                                  [ITES]  \n",
       "1                             [Marketing]  \n",
       "2  [IT Software, Application Programming]  \n",
       "3                              [Accounts]  \n",
       "4  [IT Software, Application Programming]  "
      ]
     },
     "execution_count": 15,
     "metadata": {},
     "output_type": "execute_result"
    }
   ],
   "source": [
    "df.head()"
   ]
  },
  {
   "cell_type": "code",
   "execution_count": 16,
   "metadata": {},
   "outputs": [],
   "source": [
    "# Function to sanitize data to prevent ambiguity. It removes spaces and converts to lowercase\n",
    "def sanitize(x):\n",
    "    if isinstance(x, list):\n",
    "        #Strip spaces and convert to lowercase\n",
    "        return [str.lower(i.replace(\" \", \"\")) for i in x]\n",
    "    else:\n",
    "        #Check if director exists. If not, return empty string\n",
    "        if isinstance(x, str):\n",
    "            return str.lower(x.replace(\" \", \"\"))\n",
    "        else:\n",
    "            return ''"
   ]
  },
  {
   "cell_type": "code",
   "execution_count": 17,
   "metadata": {},
   "outputs": [],
   "source": [
    "#Apply the generate_list function to cast, keywords, director and genres\n",
    "for feature in ['experience', 'industry', 'joblocation_address', 'skills']:\n",
    "    df[feature] = df[feature].apply(sanitize)"
   ]
  },
  {
   "cell_type": "code",
   "execution_count": 18,
   "metadata": {},
   "outputs": [],
   "source": [
    "#Function that creates a soup out of the desired metadata\n",
    "def create_soup(x):\n",
    "    return ' '.join(x['experience']) + ' ' + ' '.join(x['industry']) + ' '.join(x['industry']) + ' ' + ' '.join(x['joblocation_address']) + ' ' + ' '.join(x['skills'])"
   ]
  },
  {
   "cell_type": "code",
   "execution_count": 19,
   "metadata": {},
   "outputs": [],
   "source": [
    "# Create the new soup feature\n",
    "df['soup'] = df.apply(create_soup, axis=1)"
   ]
  },
  {
   "cell_type": "code",
   "execution_count": 20,
   "metadata": {},
   "outputs": [
    {
     "data": {
      "text/plain": [
       "'0 1 media entertainment internetmedia entertainment internet chennai ites'"
      ]
     },
     "execution_count": 20,
     "metadata": {},
     "output_type": "execute_result"
    }
   ],
   "source": [
    "#Display the soup of the first job\n",
    "df.iloc[0]['soup']"
   ]
  },
  {
   "cell_type": "code",
   "execution_count": 21,
   "metadata": {},
   "outputs": [],
   "source": [
    "# Import CountVectorizer\n",
    "from sklearn.feature_extraction.text import CountVectorizer\n",
    "\n",
    "#Define a new CountVectorizer object and create vectors for the soup\n",
    "count = CountVectorizer(stop_words='english')\n",
    "count_matrix = count.fit_transform(df['soup'])"
   ]
  },
  {
   "cell_type": "code",
   "execution_count": 22,
   "metadata": {},
   "outputs": [],
   "source": [
    "#Import cosine_similarity function\n",
    "from sklearn.metrics.pairwise import cosine_similarity\n",
    "\n",
    "#Compute the cosine similarity score (equivalent to dot product for tf-idf vectors)\n",
    "cosine_sim2 = cosine_similarity(count_matrix, count_matrix)"
   ]
  },
  {
   "cell_type": "code",
   "execution_count": 23,
   "metadata": {},
   "outputs": [],
   "source": [
    "# Reset index of your df and construct reverse mapping again\n",
    "df = df.reset_index()\n",
    "indices2 = pd.Series(df.index, index=df['jobtitle'])"
   ]
  },
  {
   "cell_type": "code",
   "execution_count": 43,
   "metadata": {},
   "outputs": [],
   "source": [
    "# Function that takes in job title as input and gives recommendations \n",
    "def content_recommender(title, cosine_sim=cosine_sim2, df=df, indices=indices2):\n",
    "    # Obtain the index of the movie that matches the title\n",
    "    idx = indices[title]\n",
    "\n",
    "    # Get the pairwsie similarity scores of all jobs with that job\n",
    "    # And convert it into a list of tuples as described above\n",
    "    sim_scores = list(enumerate(cosine_sim[idx]))\n",
    "\n",
    "    # Sort the jobs based on the cosine similarity scores\n",
    "    sim_scores = sorted(sim_scores, key=lambda x: x[1].all(), reverse=True)\n",
    "\n",
    "    # Get the scores of the 15 most similar jobs. Ignore the first job.\n",
    "    sim_scores = sim_scores[1:16]\n",
    "\n",
    "    # Get the job indices\n",
    "    job_indices = [i[0] for i in sim_scores]\n",
    "\n",
    "    # Return the top 15 most similar jobs\n",
    "    return df['jobtitle'].iloc[job_indices]"
   ]
  },
  {
   "cell_type": "code",
   "execution_count": 56,
   "metadata": {},
   "outputs": [
    {
     "data": {
      "text/plain": [
       "'Services Project Manager'"
      ]
     },
     "execution_count": 56,
     "metadata": {},
     "output_type": "execute_result"
    }
   ],
   "source": [
    "job=df['jobtitle'][2343]\n",
    "job"
   ]
  },
  {
   "cell_type": "code",
   "execution_count": 61,
   "metadata": {},
   "outputs": [
    {
     "data": {
      "text/plain": [
       "1                   Work Based Onhome Based Part Time.\n",
       "2                               Pl/sql Developer - SQL\n",
       "3               Manager/ad/partner - Indirect Tax - CA\n",
       "4                      JAVA Technical Lead (6-8 yrs) -\n",
       "5    WALK IN - As400 Developer - Pfsweb Global Serv...\n",
       "6                                        PHP Developer\n",
       "Name: jobtitle, dtype: object"
      ]
     },
     "execution_count": 61,
     "metadata": {},
     "output_type": "execute_result"
    }
   ],
   "source": [
    "content_recommender('Java Developers', cosine_sim2, df, indices2)"
   ]
  },
  {
   "cell_type": "code",
   "execution_count": null,
   "metadata": {},
   "outputs": [],
   "source": []
  },
  {
   "cell_type": "code",
   "execution_count": null,
   "metadata": {},
   "outputs": [],
   "source": []
  }
 ],
 "metadata": {
  "kernelspec": {
   "display_name": "Python 3",
   "language": "python",
   "name": "python3"
  },
  "language_info": {
   "codemirror_mode": {
    "name": "ipython",
    "version": 3
   },
   "file_extension": ".py",
   "mimetype": "text/x-python",
   "name": "python",
   "nbconvert_exporter": "python",
   "pygments_lexer": "ipython3",
   "version": "3.7.3"
  }
 },
 "nbformat": 4,
 "nbformat_minor": 2
}
